{
 "cells": [
  {
   "cell_type": "code",
   "execution_count": 1,
   "id": "8c4a1cf0-108f-4e7c-8855-a43074ef324a",
   "metadata": {},
   "outputs": [],
   "source": [
    "import pandas as pd\n"
   ]
  },
  {
   "cell_type": "code",
   "execution_count": 3,
   "id": "9d725270-1bbc-4edd-9039-379922103c0f",
   "metadata": {},
   "outputs": [],
   "source": [
    "data =  pd.read_csv('student.csv')"
   ]
  },
  {
   "cell_type": "code",
   "execution_count": 5,
   "id": "1df6fcab-cb97-4933-a9bf-99db2db3a1b5",
   "metadata": {},
   "outputs": [
    {
     "data": {
      "text/html": [
       "<div>\n",
       "<style scoped>\n",
       "    .dataframe tbody tr th:only-of-type {\n",
       "        vertical-align: middle;\n",
       "    }\n",
       "\n",
       "    .dataframe tbody tr th {\n",
       "        vertical-align: top;\n",
       "    }\n",
       "\n",
       "    .dataframe thead th {\n",
       "        text-align: right;\n",
       "    }\n",
       "</style>\n",
       "<table border=\"1\" class=\"dataframe\">\n",
       "  <thead>\n",
       "    <tr style=\"text-align: right;\">\n",
       "      <th></th>\n",
       "      <th>Age</th>\n",
       "      <th>Result</th>\n",
       "    </tr>\n",
       "  </thead>\n",
       "  <tbody>\n",
       "    <tr>\n",
       "      <th>0</th>\n",
       "      <td>18</td>\n",
       "      <td>Pass</td>\n",
       "    </tr>\n",
       "    <tr>\n",
       "      <th>1</th>\n",
       "      <td>20</td>\n",
       "      <td>Fail</td>\n",
       "    </tr>\n",
       "    <tr>\n",
       "      <th>2</th>\n",
       "      <td>19</td>\n",
       "      <td>Absent</td>\n",
       "    </tr>\n",
       "    <tr>\n",
       "      <th>3</th>\n",
       "      <td>21</td>\n",
       "      <td>Pass</td>\n",
       "    </tr>\n",
       "  </tbody>\n",
       "</table>\n",
       "</div>"
      ],
      "text/plain": [
       "   Age  Result\n",
       "0   18    Pass\n",
       "1   20    Fail\n",
       "2   19  Absent\n",
       "3   21    Pass"
      ]
     },
     "execution_count": 5,
     "metadata": {},
     "output_type": "execute_result"
    }
   ],
   "source": [
    "data"
   ]
  },
  {
   "cell_type": "code",
   "execution_count": 7,
   "id": "6db3ee82-26a1-491e-91ad-9f5863661846",
   "metadata": {},
   "outputs": [
    {
     "data": {
      "text/plain": [
       "0      Pass\n",
       "1      Fail\n",
       "2    Absent\n",
       "3      Pass\n",
       "Name: Result, dtype: object"
      ]
     },
     "execution_count": 7,
     "metadata": {},
     "output_type": "execute_result"
    }
   ],
   "source": [
    "data[\"Result\"]"
   ]
  },
  {
   "cell_type": "code",
   "execution_count": 9,
   "id": "fc73b7d6-e47a-42b1-bbe4-68e93a8889f2",
   "metadata": {},
   "outputs": [],
   "source": [
    "result_category = data['Result']"
   ]
  },
  {
   "cell_type": "code",
   "execution_count": 15,
   "id": "98d146ee-0b07-4e02-9247-baf7e8e98663",
   "metadata": {},
   "outputs": [],
   "source": [
    "from sklearn.preprocessing import LabelEncoder\n",
    "obj = LabelEncoder()\n",
    "result = obj.fit_transform(result_category)"
   ]
  },
  {
   "cell_type": "code",
   "execution_count": 19,
   "id": "68b9a55e-febb-43d9-b16d-7a581a2b47d8",
   "metadata": {},
   "outputs": [
    {
     "data": {
      "text/plain": [
       "array([2, 1, 0, 2])"
      ]
     },
     "execution_count": 19,
     "metadata": {},
     "output_type": "execute_result"
    }
   ],
   "source": [
    "result    # the output like this 2 is thinking that 1 is near to 2 because they are integers so we can not use this one "
   ]
  },
  {
   "cell_type": "code",
   "execution_count": 21,
   "id": "5fdb6af9-ebf1-409d-bcd7-14bd227b0d41",
   "metadata": {},
   "outputs": [],
   "source": [
    "from sklearn.preprocessing import LabelBinarizer\n",
    "obj = LabelBinarizer()\n",
    "result = obj.fit_transform(result_category)"
   ]
  },
  {
   "cell_type": "code",
   "execution_count": 23,
   "id": "f650869f-452d-47ae-83fc-801f970d49b9",
   "metadata": {},
   "outputs": [
    {
     "data": {
      "text/plain": [
       "array([[0, 0, 1],\n",
       "       [0, 1, 0],\n",
       "       [1, 0, 0],\n",
       "       [0, 0, 1]])"
      ]
     },
     "execution_count": 23,
     "metadata": {},
     "output_type": "execute_result"
    }
   ],
   "source": [
    "result"
   ]
  },
  {
   "cell_type": "code",
   "execution_count": 25,
   "id": "016c56f8-6169-4f52-83bc-bab5c49d16cf",
   "metadata": {},
   "outputs": [
    {
     "data": {
      "text/plain": [
       "array(['Absent', 'Fail', 'Pass'], dtype='<U6')"
      ]
     },
     "execution_count": 25,
     "metadata": {},
     "output_type": "execute_result"
    }
   ],
   "source": [
    "obj.classes_"
   ]
  },
  {
   "cell_type": "code",
   "execution_count": null,
   "id": "2c1c1d2f-e650-40d4-93ee-6eb69ffd7472",
   "metadata": {},
   "outputs": [],
   "source": []
  }
 ],
 "metadata": {
  "kernelspec": {
   "display_name": "Python 3 (ipykernel)",
   "language": "python",
   "name": "python3"
  },
  "language_info": {
   "codemirror_mode": {
    "name": "ipython",
    "version": 3
   },
   "file_extension": ".py",
   "mimetype": "text/x-python",
   "name": "python",
   "nbconvert_exporter": "python",
   "pygments_lexer": "ipython3",
   "version": "3.12.4"
  }
 },
 "nbformat": 4,
 "nbformat_minor": 5
}
