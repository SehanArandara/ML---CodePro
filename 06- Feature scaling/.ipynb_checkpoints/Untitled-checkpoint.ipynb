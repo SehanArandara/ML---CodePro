{
 "cells": [
  {
   "cell_type": "markdown",
   "id": "46738e54-7b16-4313-be94-00e3a42c697b",
   "metadata": {},
   "source": [
    "# Feature Scaling \n",
    "- Feature scaling is a vital pre processing step in machine learning that involves transforming numerical features to a common scale.\n",
    "- It plays a major role in ensuring accurate and efficient model training and performance.\n",
    "- It involves bringing all the features to a similar scale, so that no single feature dominates the learning algorithm.\n",
    "- this will not increase the accuracy in Random forest and Decision tree algorthims\n",
    "\n",
    "- There are two types of Feature Scaling\n",
    "1. Normaliztion\n",
    "2. Standardization "
   ]
  },
  {
   "cell_type": "code",
   "execution_count": 2,
   "id": "e0728e43-1a1f-45f3-a508-cf9f7e6e072e",
   "metadata": {},
   "outputs": [],
   "source": [
    "import numpy as np\n"
   ]
  },
  {
   "cell_type": "code",
   "execution_count": 4,
   "id": "3c3c8aa6-b58e-43bc-b406-60ae0e2e28a4",
   "metadata": {},
   "outputs": [],
   "source": [
    "data = np.array(\n",
    "    [\n",
    "        [26,50000],\n",
    "        [29,70000],\n",
    "        [34,55000],\n",
    "        [31,41000]\n",
    "    ]\n",
    ")"
   ]
  },
  {
   "cell_type": "markdown",
   "id": "9521766b-eaca-42fb-9edd-3baf60cd4bd8",
   "metadata": {},
   "source": [
    "## Normalization"
   ]
  },
  {
   "cell_type": "code",
   "execution_count": 9,
   "id": "4e570381-3f6b-432d-a145-68cc5d1a15eb",
   "metadata": {},
   "outputs": [
    {
     "data": {
      "text/plain": [
       "array([[0.        , 0.31034483],\n",
       "       [0.375     , 1.        ],\n",
       "       [1.        , 0.48275862],\n",
       "       [0.625     , 0.        ]])"
      ]
     },
     "execution_count": 9,
     "metadata": {},
     "output_type": "execute_result"
    }
   ],
   "source": [
    "from sklearn.preprocessing import MinMaxScaler\n",
    "\n",
    "scaler = MinMaxScaler()\n",
    "scaled_data = scaler.fit_transform(data)\n",
    "scaled_data\n",
    "\n",
    "# All the data will align between the 0 and 1"
   ]
  },
  {
   "cell_type": "markdown",
   "id": "0c6d0693-225d-4105-909c-0c5de71b3948",
   "metadata": {},
   "source": [
    "## Standardization"
   ]
  },
  {
   "cell_type": "code",
   "execution_count": 13,
   "id": "e44f64cb-8b0d-4731-8c6b-85d99e9e2dd0",
   "metadata": {},
   "outputs": [
    {
     "data": {
      "text/plain": [
       "array([[-1.37198868, -0.3805212 ],\n",
       "       [-0.34299717,  1.52208478],\n",
       "       [ 1.37198868,  0.0951303 ],\n",
       "       [ 0.34299717, -1.23669388]])"
      ]
     },
     "execution_count": 13,
     "metadata": {},
     "output_type": "execute_result"
    }
   ],
   "source": [
    "from sklearn.preprocessing import StandardScaler\n",
    "\n",
    "scaler = StandardScaler()\n",
    "scaled_data = scaler.fit_transform(data)\n",
    "scaled_data"
   ]
  },
  {
   "cell_type": "code",
   "execution_count": null,
   "id": "e52a1a46-c097-469f-864c-dd74bfa14ece",
   "metadata": {},
   "outputs": [],
   "source": []
  }
 ],
 "metadata": {
  "kernelspec": {
   "display_name": "Python 3 (ipykernel)",
   "language": "python",
   "name": "python3"
  },
  "language_info": {
   "codemirror_mode": {
    "name": "ipython",
    "version": 3
   },
   "file_extension": ".py",
   "mimetype": "text/x-python",
   "name": "python",
   "nbconvert_exporter": "python",
   "pygments_lexer": "ipython3",
   "version": "3.12.4"
  }
 },
 "nbformat": 4,
 "nbformat_minor": 5
}
